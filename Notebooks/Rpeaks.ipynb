{
 "cells": [
  {
   "cell_type": "code",
   "execution_count": 2,
   "metadata": {},
   "outputs": [],
   "source": [
    "import sys\n",
    "import numpy as np\n",
    "import scipy.signal\n",
    "import scipy.ndimage\n",
    "\n",
    "def detect_beats(\n",
    "\t\tecg,\t# The raw ECG signal\n",
    "\t\trate,\t# Sampling rate in HZ\n",
    "\t\t# Window size in seconds to use for \n",
    "\t\transac_window_size=5.0,\n",
    "\t\t# Low frequency of the band pass filter\n",
    "\t\tlowfreq=5.0,\n",
    "\t\t# High frequency of the band pass filter\n",
    "\t\thighfreq=15.0,\n",
    "\t\t):\n",
    "\t\"\"\"\n",
    "\tECG heart beat detection based on\n",
    "\thttp://link.springer.com/article/10.1007/s13239-011-0065-3/fulltext.html\n",
    "\twith some tweaks (mainly robust estimation of the rectified signal\n",
    "\tcutoff threshold).\n",
    "\t\"\"\"\n",
    "\n",
    "\transac_window_size = int(ransac_window_size*rate)\n",
    "\n",
    "\tlowpass = scipy.signal.butter(1, highfreq/(rate/2.0), 'low')\n",
    "\thighpass = scipy.signal.butter(1, lowfreq/(rate/2.0), 'high')\n",
    "\t# TODO: Could use an actual bandpass filter\n",
    "\tecg_low = scipy.signal.filtfilt(*lowpass, x=ecg)\n",
    "\tecg_band = scipy.signal.filtfilt(*highpass, x=ecg_low)\n",
    "\t\n",
    "\t# Square (=signal power) of the first difference of the signal\n",
    "\tdecg = np.diff(ecg_band)\n",
    "\tdecg_power = decg**2\n",
    "\t\n",
    "\t# Robust threshold and normalizator estimation\n",
    "\tthresholds = []\n",
    "\tmax_powers = []\n",
    "\tfor i in range(int(len(decg_power)/ransac_window_size)):\n",
    "\t\tsample = slice(i*ransac_window_size, (i+1)*ransac_window_size)\n",
    "\t\td = decg_power[sample]\n",
    "\t\tthresholds.append(0.5*np.std(d))\n",
    "\t\tmax_powers.append(np.max(d))\n",
    "\n",
    "\tthreshold = np.median(thresholds)\n",
    "\tmax_power = np.median(max_powers)\n",
    "\tdecg_power[decg_power < threshold] = 0\n",
    "\n",
    "\tdecg_power /= max_power\n",
    "\tdecg_power[decg_power > 1.0] = 1.0\n",
    "\tsquare_decg_power = decg_power**2\n",
    "\n",
    "\tshannon_energy = -square_decg_power*np.log(square_decg_power)\n",
    "\tshannon_energy[~np.isfinite(shannon_energy)] = 0.0\n",
    "\n",
    "\tmean_window_len = int(rate*0.125+1)\n",
    "\tlp_energy = np.convolve(shannon_energy, [1.0/mean_window_len]*mean_window_len, mode='same')\n",
    "\t#lp_energy = scipy.signal.filtfilt(*lowpass2, x=shannon_energy)\n",
    "\t\n",
    "\tlp_energy = scipy.ndimage.gaussian_filter1d(lp_energy, rate/8.0)\n",
    "\tlp_energy_diff = np.diff(lp_energy)\n",
    "\n",
    "\tzero_crossings = (lp_energy_diff[:-1] > 0) & (lp_energy_diff[1:] < 0)\n",
    "\tzero_crossings = np.flatnonzero(zero_crossings)\n",
    "\tzero_crossings -= 1\n",
    "\treturn zero_crossings\n",
    "\n",
    "def plot_peak_detection(ecg, rate):\n",
    "\timport matplotlib.pyplot as plt\n",
    "\tdt = 1.0/rate\n",
    "\tt = np.linspace(0, len(ecg)*dt, len(ecg))\n",
    "\tplt.plot(t, ecg)\n",
    "\n",
    "\tpeak_i = detect_beats(ecg, rate)\n",
    "\tplt.scatter(t[peak_i], ecg[peak_i], color='red')\n",
    "\tplt.show()\n"
   ]
  },
  {
   "cell_type": "code",
   "execution_count": 6,
   "metadata": {},
   "outputs": [],
   "source": [
    "def f(x):\n",
    "    return 3-np.abs(np.cos(3*x))+0.2*np.sin(1.31*x)\n",
    "\n",
    "x = np.linspace(0.1,10.4,2000)\n",
    "y = f(x)"
   ]
  },
  {
   "cell_type": "code",
   "execution_count": 7,
   "metadata": {},
   "outputs": [
    {
     "name": "stderr",
     "output_type": "stream",
     "text": [
      "/Users/apple/miniconda3/lib/python3.5/site-packages/scipy/signal/_arraytools.py:45: FutureWarning: Using a non-tuple sequence for multidimensional indexing is deprecated; use `arr[tuple(seq)]` instead of `arr[seq]`. In the future this will be interpreted as an array index, `arr[np.array(seq)]`, which will result either in an error or a different result.\n",
      "  b = a[a_slice]\n",
      "/Users/apple/miniconda3/lib/python3.5/site-packages/ipykernel_launcher.py:52: RuntimeWarning: divide by zero encountered in log\n",
      "/Users/apple/miniconda3/lib/python3.5/site-packages/ipykernel_launcher.py:52: RuntimeWarning: invalid value encountered in multiply\n"
     ]
    }
   ],
   "source": [
    "res = detect_beats(y, 2000/(10.3))"
   ]
  },
  {
   "cell_type": "code",
   "execution_count": null,
   "metadata": {},
   "outputs": [],
   "source": []
  }
 ],
 "metadata": {
  "kernelspec": {
   "display_name": "Python 3",
   "language": "python",
   "name": "python3"
  },
  "language_info": {
   "codemirror_mode": {
    "name": "ipython",
    "version": 3
   },
   "file_extension": ".py",
   "mimetype": "text/x-python",
   "name": "python",
   "nbconvert_exporter": "python",
   "pygments_lexer": "ipython3",
   "version": "3.5.6"
  }
 },
 "nbformat": 4,
 "nbformat_minor": 2
}
